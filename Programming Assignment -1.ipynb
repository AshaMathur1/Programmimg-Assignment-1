{
 "cells": [
  {
   "cell_type": "code",
   "execution_count": 1,
   "id": "023b9122",
   "metadata": {},
   "outputs": [
    {
     "name": "stdout",
     "output_type": "stream",
     "text": [
      "hello python\n"
     ]
    }
   ],
   "source": [
    "#1.\tWrite a Python program to print \"Hello Python\"?\n",
    "\n",
    "print (\"hello python\")"
   ]
  },
  {
   "cell_type": "code",
   "execution_count": 4,
   "id": "f608f184",
   "metadata": {},
   "outputs": [
    {
     "name": "stdout",
     "output_type": "stream",
     "text": [
      "enter no 1:32\n",
      "enter no 2:8\n",
      "32+8=40\n",
      "32/8=4.0\n"
     ]
    }
   ],
   "source": [
    "#2.\tWrite a Python program to do arithmetical operations addition and division.?\n",
    "A= int(input(\"enter no 1:\"))\n",
    "B= int(input(\"enter no 2:\"))\n",
    "Sum = A+B\n",
    "Div = A/B\n",
    "print (\"{0}+{1}={2}\".format(A,B,Sum))\n",
    "print (\"{0}/{1}={2}\".format(A,B,Div))"
   ]
  },
  {
   "cell_type": "code",
   "execution_count": 7,
   "id": "2ba5a988",
   "metadata": {},
   "outputs": [
    {
     "name": "stdout",
     "output_type": "stream",
     "text": [
      "enter first side:2\n",
      "enter second side:3\n",
      "enter third side:4\n",
      "area of triangle is: 2.9047375096555625\n"
     ]
    }
   ],
   "source": [
    "#3.\tWrite a Python program to find the area of a triangle?\n",
    "\n",
    "a=int(input('enter first side:'))\n",
    "b=int(input('enter second side:'))\n",
    "c=int(input('enter third side:'))\n",
    "\n",
    "p= (a+b+c)\n",
    "s= p/2\n",
    "\n",
    "Area = (s*(s-a)*(s-b)*(s-c))**0.5\n",
    "print(\"area of triangle is:\", Area)\n"
   ]
  },
  {
   "cell_type": "code",
   "execution_count": 8,
   "id": "c1a88ab7",
   "metadata": {},
   "outputs": [],
   "source": [
    "#4.\tWrite a Python program to swap two variables?\n",
    "\n",
    "A= 2\n",
    "B=5\n",
    "A,B =B,A"
   ]
  },
  {
   "cell_type": "code",
   "execution_count": 9,
   "id": "1872c157",
   "metadata": {},
   "outputs": [
    {
     "data": {
      "text/plain": [
       "5"
      ]
     },
     "execution_count": 9,
     "metadata": {},
     "output_type": "execute_result"
    }
   ],
   "source": [
    "A"
   ]
  },
  {
   "cell_type": "code",
   "execution_count": 10,
   "id": "3b861b4f",
   "metadata": {},
   "outputs": [
    {
     "data": {
      "text/plain": [
       "2"
      ]
     },
     "execution_count": 10,
     "metadata": {},
     "output_type": "execute_result"
    }
   ],
   "source": [
    "B"
   ]
  },
  {
   "cell_type": "code",
   "execution_count": null,
   "id": "54934da0",
   "metadata": {},
   "outputs": [],
   "source": [
    "#5.\tWrite a Python program to generate a random number?"
   ]
  },
  {
   "cell_type": "code",
   "execution_count": 13,
   "id": "15ab82e8",
   "metadata": {},
   "outputs": [
    {
     "name": "stdout",
     "output_type": "stream",
     "text": [
      "0.48021843347477955\n"
     ]
    }
   ],
   "source": [
    "import random\n",
    "num = random.random()\n",
    "print(num)"
   ]
  },
  {
   "cell_type": "code",
   "execution_count": 15,
   "id": "f261078b",
   "metadata": {},
   "outputs": [
    {
     "name": "stdout",
     "output_type": "stream",
     "text": [
      "3\n"
     ]
    }
   ],
   "source": [
    "num = random.randint(1,20)\n",
    "print(num)"
   ]
  },
  {
   "cell_type": "code",
   "execution_count": 16,
   "id": "2f9bd085",
   "metadata": {},
   "outputs": [
    {
     "name": "stdout",
     "output_type": "stream",
     "text": [
      "76\n"
     ]
    }
   ],
   "source": [
    "num = random.randrange(10,100,3)\n",
    "print(num)"
   ]
  },
  {
   "cell_type": "code",
   "execution_count": null,
   "id": "61f50c39",
   "metadata": {},
   "outputs": [],
   "source": []
  }
 ],
 "metadata": {
  "kernelspec": {
   "display_name": "Python 3 (ipykernel)",
   "language": "python",
   "name": "python3"
  },
  "language_info": {
   "codemirror_mode": {
    "name": "ipython",
    "version": 3
   },
   "file_extension": ".py",
   "mimetype": "text/x-python",
   "name": "python",
   "nbconvert_exporter": "python",
   "pygments_lexer": "ipython3",
   "version": "3.9.7"
  }
 },
 "nbformat": 4,
 "nbformat_minor": 5
}
